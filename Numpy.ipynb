{
 "cells": [
  {
   "cell_type": "code",
   "execution_count": 15,
   "metadata": {},
   "outputs": [
    {
     "data": {
      "text/plain": [
       "(3, 5)"
      ]
     },
     "execution_count": 15,
     "metadata": {},
     "output_type": "execute_result"
    }
   ],
   "source": [
    "# Jupyter Notebook中的代码\n",
    "import numpy as np\n",
    "\n",
    "x = np.arange(15).reshape(3, 5)\n",
    "x.shape\n",
    "# (3, 5)"
   ]
  },
  {
   "cell_type": "code",
   "execution_count": 5,
   "metadata": {},
   "outputs": [
    {
     "name": "stdout",
     "output_type": "stream",
     "text": [
      "(3,)\n",
      "1 2 3\n",
      "1 2 4\n"
     ]
    }
   ],
   "source": [
    "#导入numpy库 \n",
    "\n",
    "import numpy as np\n",
    "\n",
    "\n",
    "#创建一个3行1列的矩阵\n",
    "a = np.array([1, 2, 3])\n",
    "#输出矩阵的维度，结果为（3，）\n",
    "print(a.shape)\n",
    "#选择矩阵的对应元素，在此处就是第一维度，第二维度，第三维度\n",
    "print(a[0], a[1], a[2])\n",
    "#创建一个2行3列的矩阵\n",
    "b = np.array([[1,2,3],[4,5,6]])\n",
    "#输出对应元素\n",
    "print(b[0, 0], b[0, 1], b[1, 0])\n",
    "#创建一个2*2的0矩阵，即元素全部为0\n",
    "a = np.zeros((2,2))\n",
    "#创建一个全部元素为1的矩阵\n",
    "b = np.ones((1,2))\n",
    "#创建一个元素全部为n的2*2矩阵\n",
    "n=5\n",
    "c = np.full((2,2), n)\n",
    "#创建一个随机矩阵，即其中的元素值全部#为随机数\n",
    "e = np.random.random((2,2))"
   ]
  },
  {
   "cell_type": "code",
   "execution_count": 7,
   "metadata": {},
   "outputs": [
    {
     "name": "stdout",
     "output_type": "stream",
     "text": [
      "[3 4] (2,)\n",
      "[[3 4]] (1, 2)\n",
      "[ 1 77]\n",
      "[1 4 5]\n",
      "[0 1]\n",
      "[1 4 6]\n"
     ]
    }
   ],
   "source": [
    "import numpy\n",
    "#获取a矩阵的前两行，1到3列的数据\n",
    "a = np.array([[1,2], [3, 4], [5, 6]])\n",
    "b = a[:2, 1:3]\n",
    "#将0行0列置为77\n",
    "b[0, 0] = 77\n",
    "#将a的第1行赋给row_r1\n",
    "row_r1 = a[1, :]\n",
    "#依然是将a的第1行赋给row_r2，但是不同的是，同样是1行但此时row_r2有两个维度\n",
    "row_r2 = a[1:2, :]\n",
    "print(row_r1, row_r1.shape) # Prints \"[5 6 7 8] (4,)\"\n",
    "print(row_r2, row_r2.shape) # Prints \"[[5 6 7 8]] (1, 4)\"\n",
    "#注意此时a虽然是两行三列的矩阵，但它其实是个3维矩阵，他只是三个维度中的一个\n",
    "print(a[0])#Prints \"[[1,2], [3, 4], [5, 6]]\"\n",
    "print(np.array([a[0, 0], a[1, 1], a[2, 0]])) # Prints \"[1 4 5]\"\n",
    "b = np.array([0,1,1])\n",
    "print(np.arange(2))\n",
    "#将b当做索引，从a中取出对应值\n",
    "print(a[np.arange(3), b]) # Prints \"[ 1 6 7 11]\"Prints[1,4,6]"
   ]
  },
  {
   "cell_type": "code",
   "execution_count": 8,
   "metadata": {},
   "outputs": [
    {
     "name": "stdout",
     "output_type": "stream",
     "text": [
      "[[False False]\n",
      " [ True  True]\n",
      " [ True  True]]\n",
      "[3 4 5 6]\n"
     ]
    }
   ],
   "source": [
    "a = np.array([[1,2], [3, 4], [5, 6]])\n",
    "bool_idx = (a > 2)\n",
    "print(bool_idx) # Prints \"[[False False]\n",
    "# [ True True]\n",
    "# [ True True]]\"\n",
    "print(a[bool_idx]) # Prints \"[3 4 5 6]\""
   ]
  },
  {
   "cell_type": "code",
   "execution_count": 10,
   "metadata": {},
   "outputs": [
    {
     "name": "stdout",
     "output_type": "stream",
     "text": [
      "[29 67]\n",
      "10\n",
      "[4 6]\n",
      "[3 7]\n"
     ]
    }
   ],
   "source": [
    "x = np.array([[1,2],[3,4]])\n",
    "y = np.array([[5,6],[7,8]])\n",
    "v = np.array([9,10])\n",
    "#对应相乘做和，1*9+2*10=29\n",
    "print(np.dot(x, v)) #print\"[29 67]\"\n",
    "#对应直接做和，axis=0时代表行，axis=1时对应列\n",
    "print(np.sum(x)) #  prints \"10\"\n",
    "print(np.sum(x, axis=0)) #  prints \"[4 6]\"\n",
    "print(np.sum(x, axis=1)) #  prints \"[3 7]\"\n",
    "\n",
    "x = np.array([[1,2,3], [4,5,6], [7,8,9], [10, 11, 12]])\n",
    "v = np.array([1, 0, 1])\n",
    "y = np.empty_like(x) # 生成一个维度完全和矩阵x相同的空矩阵\n",
    "for i in range(4):\n",
    "    y[i, :] = x[i, :] + v"
   ]
  },
  {
   "cell_type": "code",
   "execution_count": 12,
   "metadata": {},
   "outputs": [
    {
     "name": "stdout",
     "output_type": "stream",
     "text": [
      "[[ 6.  8.]\n",
      " [10. 12.]]\n",
      "[[ 6.  8.]\n",
      " [10. 12.]]\n",
      "[[-4. -4.]\n",
      " [-4. -4.]]\n",
      "[[-4. -4.]\n",
      " [-4. -4.]]\n",
      "[[ 5. 12.]\n",
      " [21. 32.]]\n",
      "[[ 5. 12.]\n",
      " [21. 32.]]\n",
      "[[0.2        0.33333333]\n",
      " [0.42857143 0.5       ]]\n",
      "[[0.2        0.33333333]\n",
      " [0.42857143 0.5       ]]\n",
      "[[1.         1.41421356]\n",
      " [1.73205081 2.        ]]\n"
     ]
    }
   ],
   "source": [
    "#下面这些算法都是按照对应维度去进行计算的，因此要求必须两个运算矩阵的维度必须完全相同I\n",
    "import numpy as np\n",
    "x = np.array([[1,2],[3,4]], dtype=np.float64)\n",
    "y = np.array([[5,6],[7,8]], dtype=np.float64)\n",
    "#加法\n",
    "print(x + y)\n",
    "print(np.add(x, y))\n",
    "#减法\n",
    "print(x - y)\n",
    "print(np.subtract(x, y))\n",
    "#乘法\n",
    "print(x * y)\n",
    "#除法\n",
    "print(np.multiply(x, y))\n",
    "print(x / y)\n",
    "print(np.divide(x, y))\n",
    "#开方\n",
    "print(np.sqrt(x))"
   ]
  },
  {
   "cell_type": "code",
   "execution_count": 13,
   "metadata": {},
   "outputs": [
    {
     "name": "stdout",
     "output_type": "stream",
     "text": [
      "[[ 4  5]\n",
      " [ 8 10]\n",
      " [12 15]]\n"
     ]
    }
   ],
   "source": [
    "v = np.array([1,2,3]) # v has shape (3,)\n",
    "w = np.array([4,5]) # w has shape (2,)\n",
    "#将v矩阵重置为3行1列的矩阵（）原本为1行3列）然后与w矩阵相乘\n",
    "print(np.reshape(v, (3, 1)) * w)"
   ]
  },
  {
   "cell_type": "code",
   "execution_count": 14,
   "metadata": {},
   "outputs": [
    {
     "name": "stdout",
     "output_type": "stream",
     "text": [
      "[5 6 7 8 9]\n",
      "[0 2 4 6 8]\n",
      "[9 8 7 6 5 4 3 2 1 0]\n"
     ]
    }
   ],
   "source": [
    "import numpy as np\n",
    "arr = np.arange(10)\n",
    "print(arr[5:])\n",
    "# 输出：array([5, 6, 7, 8, 9])\n",
    "print(arr[::2])\n",
    "# 输出：array([0, 2, 4, 6, 8])\n",
    "print(arr[::-1])\n",
    "# 输出：array([9, 8, 7, 6, 5, 4, 3, 2, 1, 0])"
   ]
  },
  {
   "cell_type": "code",
   "execution_count": 18,
   "metadata": {},
   "outputs": [
    {
     "name": "stdout",
     "output_type": "stream",
     "text": [
      "[[0 1 2]\n",
      " [5 6 7]]\n",
      "[[0 1 2 3 4]\n",
      " [5 6 7 8 9]]\n",
      "[[0 2 4]\n",
      " [5 7 9]]\n",
      "[[14 13 12 11 10]\n",
      " [ 9  8  7  6  5]\n",
      " [ 4  3  2  1  0]]\n"
     ]
    }
   ],
   "source": [
    "import numpy as np\n",
    "\n",
    "arr = np.arange(15).reshape(3, 5)\n",
    "print(arr[:2, :3])\n",
    "# 输出：array([[0, 1, 2],\n",
    "#               [5, 6, 7]])\n",
    "print(arr[:2])\n",
    "# 输出：array([[0, 1, 2, 3, 4],\n",
    "#               [5, 6, 7, 8, 9]])\n",
    "print(arr[:2, ::2])\n",
    "# 输出：array([[0, 2, 4],\n",
    "#               [5, 7, 9]])\n",
    "print(arr[::-1, ::-1])\n",
    "# 输出：array([[14, 13, 12, 11, 10],\n",
    "#               [ 9,  8,  7,  6,  5],\n",
    "#               [ 4,  3,  2,  1,  0]])"
   ]
  },
  {
   "cell_type": "code",
   "execution_count": 19,
   "metadata": {},
   "outputs": [
    {
     "name": "stdout",
     "output_type": "stream",
     "text": [
      "[[0 1 2]\n",
      " [5 6 7]]\n",
      "[[100   1   2   3   4]\n",
      " [  5   6   7   8   9]\n",
      " [ 10  11  12  13  14]]\n",
      "[[20  1  2]\n",
      " [ 5  6  7]]\n"
     ]
    }
   ],
   "source": [
    "arr = np.arange(15).reshape(3, 5)\n",
    "subarr = arr[:2, :3]\n",
    "print(subarr)\n",
    "# 输出：array([[0, 1, 2],\n",
    "#               [5, 6, 7]])\n",
    "subarr[0, 0] = 100\n",
    "print(arr)\n",
    "# 输出：array([[100,   1,   2,   3,   4],\n",
    "#       　　　   [  5,   6,   7,   8,   9],\n",
    "#       　　     [ 10,  11,  12,  13,  14]])\n",
    "arr[0, 0] = 20\n",
    "print(subarr)\n",
    "# 输出：array([[20,  1,  2],\n",
    "#               [ 5,  6,  7]])"
   ]
  },
  {
   "cell_type": "code",
   "execution_count": null,
   "metadata": {},
   "outputs": [],
   "source": []
  }
 ],
 "metadata": {
  "kernelspec": {
   "display_name": "Python 3",
   "language": "python",
   "name": "python3"
  },
  "language_info": {
   "codemirror_mode": {
    "name": "ipython",
    "version": 3
   },
   "file_extension": ".py",
   "mimetype": "text/x-python",
   "name": "python",
   "nbconvert_exporter": "python",
   "pygments_lexer": "ipython3",
   "version": "3.7.4"
  }
 },
 "nbformat": 4,
 "nbformat_minor": 4
}
